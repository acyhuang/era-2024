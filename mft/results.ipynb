{
 "cells": [
  {
   "cell_type": "code",
   "execution_count": 1,
   "metadata": {},
   "outputs": [],
   "source": [
    "import numpy as np\n",
    "import pandas as pd\n",
    "import matplotlib.pyplot as plt\n",
    "import seaborn as sns\n",
    "from typing import Dict, List\n",
    "from datetime import datetime\n",
    "from tqdm import tqdm\n",
    "import pickle"
   ]
  },
  {
   "cell_type": "code",
   "execution_count": 2,
   "metadata": {},
   "outputs": [],
   "source": [
    "with open('results.pkl', 'rb') as file:\n",
    "    results = pickle.load(file)"
   ]
  },
  {
   "cell_type": "code",
   "execution_count": 3,
   "metadata": {},
   "outputs": [
    {
     "data": {
      "text/plain": [
       "{'gpt-4o-mini':         prompt      harm  fairness   ingroup  authority    purity      total  \\\n",
       " 0         none  4.291667      3.75  4.166667   3.625000  3.375000  19.208333   \n",
       " 1  utilitarian  3.583333      3.75  3.875000   3.250000  3.041667  17.500000   \n",
       " 2       virtue  4.458333       NaN  4.250000   3.291667  3.375000        NaN   \n",
       " \n",
       "    refusals  \n",
       " 0         4  \n",
       " 1         3  \n",
       " 2        19  ,\n",
       " 'gpt-4o': Empty DataFrame\n",
       " Columns: [prompt, harm, fairness, ingroup, authority, purity, total, refusals]\n",
       " Index: [],\n",
       " 'mistral-7b-instruct':         prompt      harm  fairness   ingroup  authority    purity      total  \\\n",
       " 0         none  2.750000  4.097222  3.500000   2.958333  2.569444  15.875000   \n",
       " 1  utilitarian  3.041667  3.291667  3.708333   3.000000  2.291667  15.333333   \n",
       " 2       virtue  3.958333  4.625000  4.083333   3.166667  2.791667  18.625000   \n",
       " \n",
       "   refusals  \n",
       " 0        2  \n",
       " 1        0  \n",
       " 2        0  ,\n",
       " 'mixtral-8x7b':         prompt      harm  fairness   ingroup  authority    purity      total  \\\n",
       " 0         none  3.500000  3.972222  3.458333   3.263889  3.166667  17.361111   \n",
       " 1  utilitarian  3.250000  3.486111  2.944444   2.888889  2.541667  15.111111   \n",
       " 2       virtue  4.041667  3.888889  3.583333        NaN  3.375000        NaN   \n",
       " \n",
       "   refusals  \n",
       " 0       11  \n",
       " 1       10  \n",
       " 2       19  ,\n",
       " 'claude-3-haiku':         prompt      harm  fairness   ingroup  authority    purity      total  \\\n",
       " 0         none  3.916667  4.000000  3.666667   3.000000  2.833333  17.416667   \n",
       " 1  utilitarian  3.125000  4.041667  3.583333   2.583333  2.041667  15.375000   \n",
       " 2       virtue  3.666667  4.166667  3.680556   3.125000  2.750000  17.388889   \n",
       " \n",
       "   refusals  \n",
       " 0        1  \n",
       " 1        0  \n",
       " 2        2  ,\n",
       " 'claude-3.5-sonnet': Empty DataFrame\n",
       " Columns: [prompt, harm, fairness, ingroup, authority, purity, total, refusals]\n",
       " Index: [],\n",
       " 'llama-3.1-8b':         prompt      harm  fairness   ingroup  authority    purity      total  \\\n",
       " 0         none  3.125000  4.333333  4.083333        NaN  3.250000        NaN   \n",
       " 1  utilitarian  3.750000  3.666667  3.652778      3.000  2.597222  16.666667   \n",
       " 2       virtue  3.583333  4.458333  3.916667      2.875  2.416667  17.250000   \n",
       " \n",
       "   refusals  \n",
       " 0        6  \n",
       " 1       13  \n",
       " 2       13  ,\n",
       " 'llama-3.1-70b':         prompt      harm  fairness   ingroup  authority    purity      total  \\\n",
       " 0         none  3.875000  4.194444  4.180556        NaN  3.513889        NaN   \n",
       " 1  utilitarian  2.916667  3.583333  3.152778   2.486111  2.430556  14.569444   \n",
       " 2       virtue  3.777778  4.375000  4.125000   3.291667  2.388889  17.958333   \n",
       " \n",
       "   refusals  \n",
       " 0       16  \n",
       " 1       15  \n",
       " 2       15  ,\n",
       " 'llama-3.1-405b': Empty DataFrame\n",
       " Columns: [prompt, harm, fairness, ingroup, authority, purity, total, refusals]\n",
       " Index: []}"
      ]
     },
     "execution_count": 3,
     "metadata": {},
     "output_type": "execute_result"
    }
   ],
   "source": [
    "results"
   ]
  },
  {
   "cell_type": "code",
   "execution_count": 4,
   "metadata": {},
   "outputs": [],
   "source": [
    "def plot_radar_chart(scores_dict: Dict[str, List[float]], title: str = None, filename=None):\n",
    "    # Define the attributes\n",
    "    attributes = ['Care', 'Fairness', 'Loyalty', 'Authority', 'Sanctity']\n",
    "    num_attrs = len(attributes)\n",
    "    \n",
    "    # Calculate the angle for each attribute\n",
    "    angles = [n / float(num_attrs) * 2 * np.pi for n in range(num_attrs)]\n",
    "    angles += angles[:1]  # Complete the circle\n",
    "    \n",
    "    # Create the plot\n",
    "    fig, ax = plt.subplots(figsize=(8, 8), subplot_kw=dict(projection='polar'))\n",
    "    \n",
    "    # Plot each dataset\n",
    "    for label, scores in scores_dict.items():\n",
    "        values = scores + scores[:1]  # Complete the polygon\n",
    "        ax.plot(angles, values, linewidth=2, linestyle='solid', label=label)\n",
    "        ax.fill(angles, values, alpha=0.1)\n",
    "    \n",
    "    # Set the labels\n",
    "    ax.set_xticks(angles[:-1])\n",
    "    ax.set_xticklabels(attributes)\n",
    "    \n",
    "    # Set y-axis limits\n",
    "    ax.set_ylim(0, 5)\n",
    "    \n",
    "    # Add legend\n",
    "    plt.legend(loc='upper right', bbox_to_anchor=(1.3, 1.0))\n",
    "    \n",
    "    plt.title(title)\n",
    "    plt.tight_layout()\n",
    "\n",
    "    if filename:\n",
    "        plt.savefig(filename, format='pdf', bbox_inches='tight')\n",
    "\n",
    "    plt.show()\n",
    "\n",
    "# Example usage:\n",
    "# plot_radar_chart({'Label1': [1, 2, 3, 4, 5], 'Label2': [5, 4, 3, 2, 1]}, title=\"Example Chart\")"
   ]
  },
  {
   "cell_type": "code",
   "execution_count": null,
   "metadata": {},
   "outputs": [],
   "source": [
    "print(gpt-4o-mini)"
   ]
  },
  {
   "cell_type": "code",
   "execution_count": null,
   "metadata": {},
   "outputs": [],
   "source": [
    "plot_radar_chart({''})"
   ]
  }
 ],
 "metadata": {
  "kernelspec": {
   "display_name": "venv",
   "language": "python",
   "name": "python3"
  },
  "language_info": {
   "codemirror_mode": {
    "name": "ipython",
    "version": 3
   },
   "file_extension": ".py",
   "mimetype": "text/x-python",
   "name": "python",
   "nbconvert_exporter": "python",
   "pygments_lexer": "ipython3",
   "version": "3.8.16"
  }
 },
 "nbformat": 4,
 "nbformat_minor": 2
}
