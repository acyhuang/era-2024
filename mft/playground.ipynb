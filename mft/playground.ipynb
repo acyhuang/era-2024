{
 "cells": [
  {
   "cell_type": "markdown",
   "metadata": {},
   "source": [
    "# imports"
   ]
  },
  {
   "cell_type": "code",
   "execution_count": 86,
   "metadata": {},
   "outputs": [],
   "source": [
    "import os\n",
    "import sys\n",
    "import math\n",
    "import time\n",
    "import numpy as np\n",
    "import pandas as pd\n",
    "import matplotlib.pyplot as plt\n",
    "import torch\n",
    "from pandas import DataFrame\n",
    "from typing import Dict, List\n",
    "from datetime import datetime\n",
    "from tqdm import tqdm\n",
    "import json\n",
    "import importlib"
   ]
  },
  {
   "cell_type": "code",
   "execution_count": 91,
   "metadata": {},
   "outputs": [],
   "source": [
    "import questionnaire\n",
    "importlib.reload(questionnaire)\n",
    "from questionnaire import (\n",
    "    relevance_questions,\n",
    "    relevance_labels,\n",
    "    relevant_prompt,\n",
    "    agreement_questions,\n",
    "    agreement_labels,\n",
    "    agreement_prompt,\n",
    "    compute_mfq\n",
    ")"
   ]
  },
  {
   "cell_type": "code",
   "execution_count": 164,
   "metadata": {},
   "outputs": [],
   "source": [
    "from openai import OpenAI\n",
    "from together import Together\n",
    "import anthropic\n"
   ]
  },
  {
   "cell_type": "markdown",
   "metadata": {},
   "source": [
    "# models.py"
   ]
  },
  {
   "cell_type": "code",
   "execution_count": 18,
   "metadata": {},
   "outputs": [],
   "source": [
    "MODELS = dict(\n",
    "    {\n",
    "        \"openai/gpt-3.5-turbo\": {\n",
    "            \"company\": \"openai\",\n",
    "            \"model_class\": \"OpenAIModel\",\n",
    "            \"model_name\": \"gpt-3.5-turbo\",\n",
    "        },\n",
    "        \"openai/gpt-4o-mini\": {\n",
    "            \"company\": \"openai\",\n",
    "            \"model_class\": \"OpenAIModel\",\n",
    "            \"model_name\": \"gpt-4o-mini\",\n",
    "        },\n",
    "        \"openai/gpt-4o\": {\n",
    "            \"company\": \"openai\",\n",
    "            \"model_class\": \"OpenAIModel\",\n",
    "            \"model_name\": \"gpt-4o\",\n",
    "        },\n",
    "        \"meta/llama-3.1-70b\": {\n",
    "            \"company\": \"meta\",\n",
    "            \"model_class\": \"TogetherModel\",\n",
    "            \"model_name\": \"meta-llama/Meta-Llama-3.1-70B-Instruct-Turbo\",\n",
    "        },\n",
    "        \"mistral/mixtral-8x7b\": {\n",
    "            \"company\": \"mistral\",\n",
    "            \"model_class\": \"TogetherModel\",\n",
    "            \"model_name\": \"mistralai/Mixtral-8x7B-Instruct-v0.1\",\n",
    "        },\n",
    "        \"anthropic/claude-3-haiku\": {\n",
    "            \"company\": \"anthropic\",\n",
    "            \"model_class\": \"AnthropicModel\",\n",
    "            \"model_name\": \"claude-3-haiku-20240307\",\n",
    "        },\n",
    "        \"anthropic/claude-3.5-sonnet\": {\n",
    "            \"company\": \"anthropic\",\n",
    "            \"model_class\": \"AnthropicModel\",\n",
    "            \"model_name\": \"claude-3-5-sonnet-20240620\",\n",
    "        },\n",
    "    }\n",
    ")"
   ]
  },
  {
   "cell_type": "code",
   "execution_count": 9,
   "metadata": {},
   "outputs": [],
   "source": [
    "def get_api_key(company_identifier: str) -> str:\n",
    "    \"\"\"\n",
    "    Helper Function to retrieve API key from files\n",
    "    \"\"\"\n",
    "    path_key = f\"../api_keys/{company_identifier}_key.txt\"\n",
    "\n",
    "    if os.path.exists(path_key):\n",
    "        with open(path_key, encoding=\"utf-8\") as f:\n",
    "            key = f.read()\n",
    "        return key\n",
    "\n",
    "    raise ValueError(f\"API KEY not available at: {path_key}\")\n",
    "\n",
    "def get_timestamp():\n",
    "    \"\"\"\n",
    "    Generate timestamp of format Y-M-D_H:M:S\n",
    "    \"\"\"\n",
    "    return datetime.now().strftime(\"%Y-%m-%d_%H:%M:%S\")\n"
   ]
  },
  {
   "cell_type": "code",
   "execution_count": 183,
   "metadata": {},
   "outputs": [],
   "source": [
    "####################################################################################\n",
    "# MODEL WRAPPERS\n",
    "####################################################################################\n",
    "\n",
    "\n",
    "class LanguageModel:\n",
    "    \"\"\" Generic LanguageModel Class\"\"\"\n",
    "\n",
    "    def __init__(self, model_name):\n",
    "        assert model_name in MODELS, f\"Model {model_name} is not supported!\"\n",
    "\n",
    "        # Set some default model variables\n",
    "        self._model_id = model_name\n",
    "        self._model_name = MODELS[model_name][\"model_name\"]\n",
    "        self._company = MODELS[model_name][\"company\"]\n",
    "\n",
    "    def get_model_id(self):\n",
    "        \"\"\"Return model_id\"\"\"\n",
    "        return self._model_id\n",
    "\n",
    "    def get_greedy_answer(\n",
    "        self, messages: List[Dict], max_tokens: int\n",
    "    ) -> str:\n",
    "        \"\"\"\n",
    "        Gets greedy answer for prompt_base\n",
    "\n",
    "        :param prompt_base:     base prompt\n",
    "        :param prompt_sytem:    system instruction for chat endpoint of OpenAI\n",
    "        :return:                answer string\n",
    "        \"\"\"\n",
    "\n",
    "    def get_top_p_answer(\n",
    "        self,\n",
    "        messages: List[Dict],\n",
    "        max_tokens: int,\n",
    "        temperature: float,\n",
    "        top_p: float,\n",
    "    ) -> str:\n",
    "        \"\"\"\n",
    "        Gets answer using sampling (based on top_p and temperature)\n",
    "\n",
    "        :param prompt_base:     base prompt\n",
    "        :param prompt_sytem:    system instruction for chat endpoint of OpenAI\n",
    "        :param max_tokens       max tokens in answer\n",
    "        :param temperature      temperature for top_p sampling\n",
    "        :param top_p            top_p parameter\n",
    "        :return:                answer string\n",
    "        \"\"\"\n",
    "\n",
    "\n",
    "class OpenAIModel(LanguageModel):\n",
    "    \"\"\"OpenAI API Wrapper\"\"\"\n",
    "    def __init__(self, model_name: str):\n",
    "        super().__init__(model_name)\n",
    "        assert MODELS[model_name][\"model_class\"] == \"OpenAIModel\", (\n",
    "            f\"Errorneous Model Instatiation for {model_name}\"\n",
    "        )\n",
    "\n",
    "        api_key = get_api_key(\"openai\")\n",
    "        self.openai = OpenAI(api_key = api_key)\n",
    "\n",
    "    def _prompt_request(\n",
    "        self,\n",
    "        messages: List[Dict],\n",
    "        max_tokens: int,\n",
    "        temperature: float = 0.0,\n",
    "        top_p: float = 1.0,\n",
    "        frequency_penalty: float = 0.0,\n",
    "        presence_penalty: float = 0.0,\n",
    "        logprobs: int = 0,\n",
    "        stop: List = [\"Human:\", \" AI:\"],\n",
    "        echo: bool = False,\n",
    "    ):\n",
    "        success = False\n",
    "        t = 0\n",
    "\n",
    "        MAX_RETRIES = 5\n",
    "        response = None\n",
    "\n",
    "        while not success and t < MAX_RETRIES:\n",
    "            try:\n",
    "                # Query ChatCompletion endpoint\n",
    "                response = self.openai.chat.completions.create(\n",
    "                    model=self._model_name,\n",
    "                    messages=messages,\n",
    "                    temperature=temperature,\n",
    "                    top_p=top_p,\n",
    "                    max_tokens=max_tokens,\n",
    "                    frequency_penalty=frequency_penalty,\n",
    "                    presence_penalty=presence_penalty,\n",
    "                )\n",
    "\n",
    "                # Set success flag\n",
    "                success = True\n",
    "\n",
    "            except:\n",
    "                time.sleep(API_TIMEOUTS[t])\n",
    "                t = min(t + 1, len(API_TIMEOUTS) - 1)\n",
    "\n",
    "        return response\n",
    "\n",
    "    def get_greedy_answer(\n",
    "        self, messages:List[Dict], max_tokens: int\n",
    "    ) -> str:\n",
    "        return self.get_top_p_answer(\n",
    "            messages=messages,\n",
    "            max_tokens=max_tokens,\n",
    "            temperature=0,\n",
    "            top_p=1.0,\n",
    "        )\n",
    "\n",
    "    def get_top_p_answer(\n",
    "        self,\n",
    "        messages: List[Dict],\n",
    "        max_tokens: int,\n",
    "        temperature: float,\n",
    "        top_p: float,\n",
    "    ) -> str:\n",
    "        result = {\n",
    "            \"timestamp\": get_timestamp(),\n",
    "        }\n",
    "\n",
    "        # (1) Top-P Sampling\n",
    "        response = self._prompt_request(\n",
    "            messages=messages,\n",
    "            max_tokens=max_tokens,\n",
    "            temperature=temperature,\n",
    "            top_p=top_p,\n",
    "            frequency_penalty=0.0,\n",
    "            presence_penalty=0.0,\n",
    "            logprobs=1,\n",
    "            stop=[\"Human:\", \" AI:\"],\n",
    "            echo=False,\n",
    "        )\n",
    "\n",
    "        completion = response.choices[0].message.content.strip()\n",
    "\n",
    "        result[\"answer\"] = completion.strip()\n",
    "\n",
    "        return result\n",
    "\n",
    "class TogetherModel(LanguageModel):\n",
    "    \"\"\"Together API Wrapper\"\"\"\n",
    "    def __init__(self, model_name: str):\n",
    "        super().__init__(model_name)\n",
    "        assert MODELS[model_name][\"model_class\"] == \"TogetherModel\", (\n",
    "            f\"Errorneous Model Instatiation for {model_name}\"\n",
    "        )\n",
    "\n",
    "        api_key = get_api_key(\"together\")\n",
    "        self.together = Together(api_key = api_key)\n",
    "\n",
    "    def _prompt_request(\n",
    "        self,\n",
    "        messages: List[Dict],\n",
    "        max_tokens: int,\n",
    "        temperature: float = 0.0,\n",
    "        top_p: float = 1.0,\n",
    "        frequency_penalty: float = 0.0,\n",
    "        presence_penalty: float = 0.0,\n",
    "        logprobs: int = 0, # changed\n",
    "        stop: List = [\"Human:\", \" AI:\"],\n",
    "        echo: bool = False,\n",
    "    ):\n",
    "        success = False\n",
    "        t = 0\n",
    "\n",
    "        MAX_RETRIES = 5\n",
    "        response = None\n",
    "\n",
    "        while not success and t < MAX_RETRIES:\n",
    "            try:\n",
    "                # Query ChatCompletion endpoint\n",
    "                response = self.together.chat.completions.create(\n",
    "                    model=self._model_name,\n",
    "                    messages=messages,\n",
    "                    temperature=temperature,\n",
    "                    top_p=top_p,\n",
    "                    max_tokens=max_tokens,\n",
    "                    frequency_penalty=frequency_penalty,\n",
    "                    presence_penalty=presence_penalty,\n",
    "                )\n",
    "\n",
    "                # Set success flag\n",
    "                success = True\n",
    "\n",
    "            except:\n",
    "                time.sleep(API_TIMEOUTS[t])\n",
    "                t = min(t + 1, len(API_TIMEOUTS) - 1)\n",
    "\n",
    "        return response\n",
    "\n",
    "    def get_greedy_answer(\n",
    "        self, messages:List[Dict], max_tokens: int\n",
    "    ) -> str:\n",
    "        return self.get_top_p_answer(\n",
    "            messages=messages,\n",
    "            max_tokens=max_tokens,\n",
    "            temperature=0,\n",
    "            top_p=1.0,\n",
    "        )\n",
    "\n",
    "    def get_top_p_answer(\n",
    "        self,\n",
    "        messages: List[Dict],\n",
    "        max_tokens: int,\n",
    "        temperature: float,\n",
    "        top_p: float,\n",
    "    ) -> str:\n",
    "        result = {\n",
    "            \"timestamp\": get_timestamp(),\n",
    "        }\n",
    "\n",
    "        # (1) Top-P Sampling\n",
    "        response = self._prompt_request(\n",
    "            messages=messages,\n",
    "            max_tokens=max_tokens,\n",
    "            temperature=temperature,\n",
    "            top_p=top_p,\n",
    "            frequency_penalty=0.0,\n",
    "            presence_penalty=0.0,\n",
    "            logprobs=1,\n",
    "            stop=[\"Human:\", \" AI:\"],\n",
    "            echo=False,\n",
    "        )\n",
    "\n",
    "        completion = response.choices[0].message.content.strip()\n",
    "\n",
    "        result[\"answer\"] = completion.strip()\n",
    "\n",
    "        return result\n",
    "    \n",
    "class AnthropicModel(LanguageModel):\n",
    "    \"\"\"Anthropic API Wrapper\"\"\"\n",
    "    \n",
    "    def __init__(self, model_name: str):\n",
    "        super().__init__(model_name)\n",
    "        assert MODELS[model_name][\"model_class\"] == \"AnthropicModel\", (\n",
    "            f\"Erroneous Model Instantiation for {model_name}\"\n",
    "        )\n",
    "\n",
    "        api_key = get_api_key(\"anthropic\")\n",
    "        self._anthropic_client = anthropic.Anthropic(api_key=api_key)\n",
    "\n",
    "    def _prompt_request(\n",
    "        self,\n",
    "        messages: List[Dict],\n",
    "        max_tokens: int,\n",
    "        temperature: float = 0.0,\n",
    "        top_p: float = 1.0,\n",
    "    ):\n",
    "        success = False\n",
    "        t = 0\n",
    "\n",
    "        while not success and t < len(API_TIMEOUTS):\n",
    "            try:\n",
    "                response = self._anthropic_client.messages.create(\n",
    "                    model=self._model_name,\n",
    "                    messages=messages,\n",
    "                    max_tokens=max_tokens,\n",
    "                    temperature=temperature,\n",
    "                    top_p=top_p,\n",
    "                )\n",
    "                success = True\n",
    "            except Exception as e:\n",
    "                print(f\"API call failed: {e}\")\n",
    "                time.sleep(API_TIMEOUTS[t])\n",
    "                t += 1\n",
    "\n",
    "        if not success:\n",
    "            raise Exception(\"Failed to get response from Anthropic API after multiple retries\")\n",
    "\n",
    "        return response\n",
    "\n",
    "    def get_top_p_answer(\n",
    "        self,\n",
    "        messages: List[Dict],\n",
    "        max_tokens: int,\n",
    "        temperature: float,\n",
    "        top_p: float,\n",
    "    ) -> str:\n",
    "        result = {\n",
    "            \"timestamp\": get_timestamp(),\n",
    "        }\n",
    "\n",
    "        response = self._prompt_request(\n",
    "            messages=messages,\n",
    "            max_tokens=max_tokens,\n",
    "            temperature=temperature,\n",
    "            top_p=top_p,\n",
    "        )\n",
    "\n",
    "        result[\"answer\"] = response.content[0].text.strip()\n",
    "        return result\n",
    "\n",
    "    def get_greedy_answer(\n",
    "        self, messages: List[Dict], max_tokens: int\n",
    "    ) -> str:\n",
    "        return self.get_top_p_answer(\n",
    "            messages=messages,\n",
    "            max_tokens=max_tokens,\n",
    "            temperature=0,\n",
    "            top_p=1.0,\n",
    "        )"
   ]
  },
  {
   "cell_type": "code",
   "execution_count": 13,
   "metadata": {},
   "outputs": [],
   "source": [
    "####################################################################################\n",
    "# MODEL CREATOR\n",
    "####################################################################################\n",
    "\n",
    "\n",
    "def create_model(model_name):\n",
    "    \"\"\"Init Models from model_name only\"\"\"\n",
    "    if model_name in MODELS:\n",
    "        class_name = MODELS[model_name][\"model_class\"]\n",
    "        cls = getattr(sys.modules[__name__], class_name)\n",
    "        return cls(model_name)\n",
    "\n",
    "    raise ValueError(f\"Unknown Model '{model_name}'\")"
   ]
  },
  {
   "cell_type": "markdown",
   "metadata": {},
   "source": [
    "# mfq"
   ]
  },
  {
   "cell_type": "code",
   "execution_count": 179,
   "metadata": {},
   "outputs": [],
   "source": [
    "def prompt_mfq(model, system_prompt: str = \"\"):\n",
    "    responses = []\n",
    "    print(\"Relevance questions\")\n",
    "    for i in tqdm(range(len(relevance_questions))):\n",
    "        full_prompt = relevant_prompt + \" \" + relevance_questions[i] + \" Label: \" \n",
    "        response = model.get_top_p_answer(\n",
    "            messages = [ \n",
    "                # { \"role\" : \"system\", \"content\": system_prompt }, \n",
    "                { \"role\" : \"user\", \"content\" : full_prompt } ],\n",
    "            # messages = [ { \"role\":\"user\", \"content\":full_prompt } ],\n",
    "            max_tokens = 10,\n",
    "            temperature = 1.0,\n",
    "            top_p = 1.0\n",
    "        )\n",
    "        value = semantic_token_to_value(\"relevance\", response['answer'])\n",
    "        responses.append(value)\n",
    "        # print(f\"{i} - {response['answer']}, {value}\")\n",
    "\n",
    "    print(\"Agreement questions\")\n",
    "    for i in tqdm(range(len(agreement_questions))):\n",
    "        full_prompt = agreement_prompt + \" \" + agreement_questions[i] + \" Label: \"\n",
    "        response = model.get_top_p_answer(\n",
    "            messages = [ \n",
    "                # { \"role\" : \"system\", \"content\": system_prompt }, \n",
    "                { \"role\" : \"user\", \"content\" : full_prompt } ],\n",
    "            max_tokens = 10,\n",
    "            temperature = 1.0,\n",
    "            top_p = 1.0,\n",
    "        )\n",
    "        value = semantic_token_to_value(\"agreement\", response['answer'])\n",
    "        responses.append(value)\n",
    "    # return responses\n",
    "\n",
    "    responses_tensor = torch.tensor(responses)\n",
    "    responses_tensor = responses_tensor.float()\n",
    "    return compute_mfq(responses_tensor)\n"
   ]
  },
  {
   "cell_type": "code",
   "execution_count": 95,
   "metadata": {},
   "outputs": [],
   "source": [
    "def semantic_token_to_value(question_type:str, response:str) -> int:\n",
    "    response = response.strip().lower()\n",
    "    full_text_to_label = {}\n",
    "\n",
    "    # Dictionary to map full text responses to their corresponding labels\n",
    "    if question_type == \"relevance\":\n",
    "        full_text_to_label = {\n",
    "            \"irrelevant\": \"a\",\n",
    "            \"not very relevant\": \"b\",\n",
    "            \"slightly relevant\": \"c\",\n",
    "            \"somewhat relevant\": \"d\",\n",
    "            \"very relevant\": \"e\",\n",
    "            \"extremely relevant\": \"f\"\n",
    "        }\n",
    "    else:\n",
    "        full_text_to_label = {\n",
    "            \"strongly disagree\": \"a\",\n",
    "            \"moderately disagree\": \"b\",\n",
    "            \"slightly disagree\": \"c\",\n",
    "            \"slightly agree\": \"d\",\n",
    "            \"moderately agree\": \"e\",\n",
    "            \"strongly agree\": \"f\"\n",
    "        }\n",
    "    \n",
    "    # First, try to match the full text response\n",
    "    for text, label in full_text_to_label.items():\n",
    "        if text in response:\n",
    "            return relevance_labels[label]\n",
    "    \n",
    "    # If full text matching fails, try to match the label directly\n",
    "    for label in relevance_labels:\n",
    "        if label in response:\n",
    "            return relevance_labels[label]\n",
    "    \n",
    "    # If no match is found, return None or raise an exception\n",
    "    return None  # or raise ValueError(\"Unable to map response to a relevance value\")"
   ]
  },
  {
   "cell_type": "code",
   "execution_count": 176,
   "metadata": {},
   "outputs": [],
   "source": [
    "gpt4omini = create_model(\"openai/gpt-4o-mini\")\n",
    "llama3170b = create_model(\"meta/llama-3.1-70b\")\n",
    "mixtral8x7b = create_model(\"mistral/mixtral-8x7b\")\n",
    "claude3haiku = create_model(\"anthropic/claude-3-haiku\")"
   ]
  },
  {
   "cell_type": "code",
   "execution_count": 158,
   "metadata": {},
   "outputs": [],
   "source": [
    "all_scores = {}"
   ]
  },
  {
   "cell_type": "code",
   "execution_count": 148,
   "metadata": {},
   "outputs": [
    {
     "name": "stdout",
     "output_type": "stream",
     "text": [
      "Relevance questions\n"
     ]
    },
    {
     "name": "stderr",
     "output_type": "stream",
     "text": [
      "100%|██████████| 15/15 [00:07<00:00,  1.92it/s]\n"
     ]
    },
    {
     "name": "stdout",
     "output_type": "stream",
     "text": [
      "Agreement questions\n"
     ]
    },
    {
     "name": "stderr",
     "output_type": "stream",
     "text": [
      "100%|██████████| 16/16 [00:10<00:00,  1.49it/s]\n"
     ]
    },
    {
     "name": "stdout",
     "output_type": "stream",
     "text": [
      "Relevance questions\n"
     ]
    },
    {
     "name": "stderr",
     "output_type": "stream",
     "text": [
      "100%|██████████| 15/15 [00:12<00:00,  1.24it/s]\n"
     ]
    },
    {
     "name": "stdout",
     "output_type": "stream",
     "text": [
      "Agreement questions\n"
     ]
    },
    {
     "name": "stderr",
     "output_type": "stream",
     "text": [
      "100%|██████████| 16/16 [00:10<00:00,  1.56it/s]\n"
     ]
    },
    {
     "name": "stdout",
     "output_type": "stream",
     "text": [
      "Relevance questions\n"
     ]
    },
    {
     "name": "stderr",
     "output_type": "stream",
     "text": [
      "100%|██████████| 15/15 [00:08<00:00,  1.79it/s]\n"
     ]
    },
    {
     "name": "stdout",
     "output_type": "stream",
     "text": [
      "Agreement questions\n"
     ]
    },
    {
     "name": "stderr",
     "output_type": "stream",
     "text": [
      "100%|██████████| 16/16 [00:09<00:00,  1.77it/s]\n"
     ]
    },
    {
     "name": "stdout",
     "output_type": "stream",
     "text": [
      "Relevance questions\n"
     ]
    },
    {
     "name": "stderr",
     "output_type": "stream",
     "text": [
      "100%|██████████| 15/15 [00:08<00:00,  1.72it/s]\n"
     ]
    },
    {
     "name": "stdout",
     "output_type": "stream",
     "text": [
      "Agreement questions\n"
     ]
    },
    {
     "name": "stderr",
     "output_type": "stream",
     "text": [
      "100%|██████████| 16/16 [00:09<00:00,  1.71it/s]\n"
     ]
    }
   ],
   "source": [
    "all_scores['vanilla'] = prompt_mfq(gpt4omini)\n",
    "all_scores['liberal'] = prompt_mfq(gpt4omini, system_prompt=\"You are a liberal.\")\n",
    "all_scores['conservative'] = prompt_mfq(gpt4omini, system_prompt=\"You are a conservative.\")\n",
    "all_scores['purity_max'] = prompt_mfq(gpt4omini, system_prompt=\"You believe that some people are more important than others.\")"
   ]
  },
  {
   "cell_type": "code",
   "execution_count": 169,
   "metadata": {},
   "outputs": [
    {
     "name": "stdout",
     "output_type": "stream",
     "text": [
      "Relevance questions\n"
     ]
    },
    {
     "name": "stderr",
     "output_type": "stream",
     "text": [
      "100%|██████████| 15/15 [00:09<00:00,  1.65it/s]\n"
     ]
    },
    {
     "name": "stdout",
     "output_type": "stream",
     "text": [
      "Agreement questions\n"
     ]
    },
    {
     "name": "stderr",
     "output_type": "stream",
     "text": [
      "100%|██████████| 16/16 [00:09<00:00,  1.63it/s]\n"
     ]
    },
    {
     "name": "stdout",
     "output_type": "stream",
     "text": [
      "Relevance questions\n"
     ]
    },
    {
     "name": "stderr",
     "output_type": "stream",
     "text": [
      "100%|██████████| 15/15 [00:08<00:00,  1.84it/s]\n"
     ]
    },
    {
     "name": "stdout",
     "output_type": "stream",
     "text": [
      "Agreement questions\n"
     ]
    },
    {
     "name": "stderr",
     "output_type": "stream",
     "text": [
      "100%|██████████| 16/16 [00:09<00:00,  1.66it/s]\n"
     ]
    },
    {
     "name": "stdout",
     "output_type": "stream",
     "text": [
      "Relevance questions\n"
     ]
    },
    {
     "name": "stderr",
     "output_type": "stream",
     "text": [
      "100%|██████████| 15/15 [00:08<00:00,  1.81it/s]\n"
     ]
    },
    {
     "name": "stdout",
     "output_type": "stream",
     "text": [
      "Agreement questions\n"
     ]
    },
    {
     "name": "stderr",
     "output_type": "stream",
     "text": [
      "100%|██████████| 16/16 [00:08<00:00,  1.98it/s]\n"
     ]
    }
   ],
   "source": [
    "all_scores['gpt-4o-mini'] = prompt_mfq(gpt4omini)\n",
    "all_scores['llama-3.1-70b'] = prompt_mfq(llama3170b)\n",
    "all_scores['mixtral-8x7b'] = prompt_mfq(mixtral8x7b)"
   ]
  },
  {
   "cell_type": "code",
   "execution_count": 184,
   "metadata": {},
   "outputs": [
    {
     "name": "stdout",
     "output_type": "stream",
     "text": [
      "Relevance questions\n"
     ]
    },
    {
     "name": "stderr",
     "output_type": "stream",
     "text": [
      "  0%|          | 0/15 [00:00<?, ?it/s]\n"
     ]
    },
    {
     "ename": "TypeError",
     "evalue": "get_top_p_answer() missing 1 required positional argument: 'system'",
     "output_type": "error",
     "traceback": [
      "\u001b[0;31m---------------------------------------------------------------------------\u001b[0m",
      "\u001b[0;31mTypeError\u001b[0m                                 Traceback (most recent call last)",
      "Cell \u001b[0;32mIn[184], line 1\u001b[0m\n\u001b[0;32m----> 1\u001b[0m all_scores[\u001b[38;5;124m'\u001b[39m\u001b[38;5;124mclaude-3-haiku\u001b[39m\u001b[38;5;124m'\u001b[39m] \u001b[38;5;241m=\u001b[39m \u001b[43mprompt_mfq\u001b[49m\u001b[43m(\u001b[49m\u001b[43mclaude3haiku\u001b[49m\u001b[43m)\u001b[49m\n",
      "Cell \u001b[0;32mIn[179], line 6\u001b[0m, in \u001b[0;36mprompt_mfq\u001b[0;34m(model, system_prompt)\u001b[0m\n\u001b[1;32m      4\u001b[0m \u001b[38;5;28;01mfor\u001b[39;00m i \u001b[38;5;129;01min\u001b[39;00m tqdm(\u001b[38;5;28mrange\u001b[39m(\u001b[38;5;28mlen\u001b[39m(relevance_questions))):\n\u001b[1;32m      5\u001b[0m     full_prompt \u001b[38;5;241m=\u001b[39m relevant_prompt \u001b[38;5;241m+\u001b[39m \u001b[38;5;124m\"\u001b[39m\u001b[38;5;124m \u001b[39m\u001b[38;5;124m\"\u001b[39m \u001b[38;5;241m+\u001b[39m relevance_questions[i] \u001b[38;5;241m+\u001b[39m \u001b[38;5;124m\"\u001b[39m\u001b[38;5;124m Label: \u001b[39m\u001b[38;5;124m\"\u001b[39m \n\u001b[0;32m----> 6\u001b[0m     response \u001b[38;5;241m=\u001b[39m \u001b[43mmodel\u001b[49m\u001b[38;5;241;43m.\u001b[39;49m\u001b[43mget_top_p_answer\u001b[49m\u001b[43m(\u001b[49m\n\u001b[1;32m      7\u001b[0m \u001b[43m        \u001b[49m\u001b[43mmessages\u001b[49m\u001b[43m \u001b[49m\u001b[38;5;241;43m=\u001b[39;49m\u001b[43m \u001b[49m\u001b[43m[\u001b[49m\u001b[43m \u001b[49m\n\u001b[1;32m      8\u001b[0m \u001b[43m            \u001b[49m\u001b[38;5;66;43;03m# { \"role\" : \"system\", \"content\": system_prompt }, \u001b[39;49;00m\n\u001b[1;32m      9\u001b[0m \u001b[43m            \u001b[49m\u001b[43m{\u001b[49m\u001b[43m \u001b[49m\u001b[38;5;124;43m\"\u001b[39;49m\u001b[38;5;124;43mrole\u001b[39;49m\u001b[38;5;124;43m\"\u001b[39;49m\u001b[43m \u001b[49m\u001b[43m:\u001b[49m\u001b[43m \u001b[49m\u001b[38;5;124;43m\"\u001b[39;49m\u001b[38;5;124;43muser\u001b[39;49m\u001b[38;5;124;43m\"\u001b[39;49m\u001b[43m,\u001b[49m\u001b[43m \u001b[49m\u001b[38;5;124;43m\"\u001b[39;49m\u001b[38;5;124;43mcontent\u001b[39;49m\u001b[38;5;124;43m\"\u001b[39;49m\u001b[43m \u001b[49m\u001b[43m:\u001b[49m\u001b[43m \u001b[49m\u001b[43mfull_prompt\u001b[49m\u001b[43m \u001b[49m\u001b[43m}\u001b[49m\u001b[43m \u001b[49m\u001b[43m]\u001b[49m\u001b[43m,\u001b[49m\n\u001b[1;32m     10\u001b[0m \u001b[43m        \u001b[49m\u001b[38;5;66;43;03m# messages = [ { \"role\":\"user\", \"content\":full_prompt } ],\u001b[39;49;00m\n\u001b[1;32m     11\u001b[0m \u001b[43m        \u001b[49m\u001b[43mmax_tokens\u001b[49m\u001b[43m \u001b[49m\u001b[38;5;241;43m=\u001b[39;49m\u001b[43m \u001b[49m\u001b[38;5;241;43m10\u001b[39;49m\u001b[43m,\u001b[49m\n\u001b[1;32m     12\u001b[0m \u001b[43m        \u001b[49m\u001b[43mtemperature\u001b[49m\u001b[43m \u001b[49m\u001b[38;5;241;43m=\u001b[39;49m\u001b[43m \u001b[49m\u001b[38;5;241;43m1.0\u001b[39;49m\u001b[43m,\u001b[49m\n\u001b[1;32m     13\u001b[0m \u001b[43m        \u001b[49m\u001b[43mtop_p\u001b[49m\u001b[43m \u001b[49m\u001b[38;5;241;43m=\u001b[39;49m\u001b[43m \u001b[49m\u001b[38;5;241;43m1.0\u001b[39;49m\n\u001b[1;32m     14\u001b[0m \u001b[43m    \u001b[49m\u001b[43m)\u001b[49m\n\u001b[1;32m     15\u001b[0m     value \u001b[38;5;241m=\u001b[39m semantic_token_to_value(\u001b[38;5;124m\"\u001b[39m\u001b[38;5;124mrelevance\u001b[39m\u001b[38;5;124m\"\u001b[39m, response[\u001b[38;5;124m'\u001b[39m\u001b[38;5;124manswer\u001b[39m\u001b[38;5;124m'\u001b[39m])\n\u001b[1;32m     16\u001b[0m     responses\u001b[38;5;241m.\u001b[39mappend(value)\n",
      "\u001b[0;31mTypeError\u001b[0m: get_top_p_answer() missing 1 required positional argument: 'system'"
     ]
    }
   ],
   "source": [
    "all_scores['claude-3-haiku'] = prompt_mfq(claude3haiku)"
   ]
  },
  {
   "cell_type": "code",
   "execution_count": 185,
   "metadata": {},
   "outputs": [],
   "source": [
    "def plot_radar_chart(scores_list, labels):\n",
    "    # Define the attributes\n",
    "    # attributes = ['Care', 'Fairness', 'Loyalty', 'Authority', 'Sanctity', 'Progressivism']\n",
    "    attributes = ['Care', 'Fairness', 'Loyalty', 'Authority', 'Sanctity']\n",
    "    \n",
    "    # Number of attributes\n",
    "    num_attrs = len(attributes)\n",
    "    \n",
    "    # Calculate the angle for each attribute\n",
    "    angles = [n / float(num_attrs) * 2 * np.pi for n in range(num_attrs)]\n",
    "    angles += angles[:1]  # Complete the circle\n",
    "    \n",
    "    # Create the plot\n",
    "    fig, ax = plt.subplots(figsize=(8, 8), subplot_kw=dict(projection='polar'))\n",
    "    \n",
    "    # Plot each dataset\n",
    "    for scores, label in zip(scores_list, labels):\n",
    "        values = scores + scores[:1]  # Complete the polygon\n",
    "        ax.plot(angles, values, linewidth=2, linestyle='solid', label=label)\n",
    "        ax.fill(angles, values, alpha=0.1)\n",
    "    \n",
    "    # Set the labels\n",
    "    ax.set_xticks(angles[:-1])\n",
    "    ax.set_xticklabels(attributes)\n",
    "    \n",
    "    # Set y-axis limits\n",
    "    ax.set_ylim(0, 5)\n",
    "    \n",
    "    # Add legend\n",
    "    plt.legend(loc='upper right', bbox_to_anchor=(1.3, 1.0))\n",
    "    \n",
    "    plt.title(\"MFQ by model\")\n",
    "    plt.tight_layout()\n",
    "    plt.show()\n"
   ]
  },
  {
   "cell_type": "code",
   "execution_count": 186,
   "metadata": {},
   "outputs": [
    {
     "data": {
      "image/png": "[encoded data removed]",
      "text/plain": [
       "<Figure size 800x800 with 1 Axes>"
      ]
     },
     "metadata": {},
     "output_type": "display_data"
    }
   ],
   "source": [
    "# Example usage:\n",
    "plot_radar_chart([all_scores['gpt-4o-mini'][:5], all_scores['llama-3.1-70b'][:5], all_scores['mixtral-8x7b'][:5]], [\"gpt-4o-mini\", \"llama-3.1-70b\", \"mixtral-8x7b\"])"
   ]
  },
  {
   "cell_type": "code",
   "execution_count": null,
   "metadata": {},
   "outputs": [],
   "source": []
  }
 ],
 "metadata": {
  "kernelspec": {
   "display_name": "venv",
   "language": "python",
   "name": "python3"
  },
  "language_info": {
   "codemirror_mode": {
    "name": "ipython",
    "version": 3
   },
   "file_extension": ".py",
   "mimetype": "text/x-python",
   "name": "python",
   "nbconvert_exporter": "python",
   "pygments_lexer": "ipython3",
   "version": "3.8.16"
  }
 },
 "nbformat": 4,
 "nbformat_minor": 2
}
