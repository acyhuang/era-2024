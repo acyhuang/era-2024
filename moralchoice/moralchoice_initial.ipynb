{
  "cells": [
    {
      "cell_type": "markdown",
      "metadata": {
        "id": "c3NKwQge8QDu"
      },
      "source": [
        "# Setup"
      ]
    },
    {
      "cell_type": "code",
      "execution_count": 26,
      "metadata": {
        "colab": {
          "base_uri": "https://localhost:8080/",
          "height": 17
        },
        "id": "7Ia0eyQ6xhlj",
        "outputId": "7e439173-a135-4e12-d5eb-1d366491d186"
      },
      "outputs": [],
      "source": [
        "import sys\n",
        "import math\n",
        "import time\n",
        "import numpy as np\n",
        "import pandas as pd\n",
        "from pandas import DataFrame\n",
        "from typing import Dict, Tuple, List\n",
        "from datetime import datetime\n",
        "from tqdm import tqdm\n",
        "import json\n",
        "import importlib\n",
        "from concurrent.futures import ThreadPoolExecutor, as_completed"
      ]
    },
    {
      "cell_type": "code",
      "execution_count": 27,
      "metadata": {},
      "outputs": [],
      "source": [
        "import src.models\n",
        "importlib.reload(src.models)\n",
        "from src.models import create_model\n",
        "from src.evaluate import evaluate\n",
        "importlib.reload(src.evaluate)\n",
        "\n",
        "import src.conversation\n",
        "importlib.reload(src.conversation)\n",
        "from src.conversation import (\n",
        "    setup_conversation,\n",
        "    append_messages,\n",
        "    remove_system_messages\n",
        ")"
      ]
    },
    {
      "cell_type": "markdown",
      "metadata": {
        "id": "VW4smexIFIeV"
      },
      "source": [
        "## Functions"
      ]
    },
    {
      "cell_type": "code",
      "execution_count": 28,
      "metadata": {
        "colab": {
          "base_uri": "https://localhost:8080/",
          "height": 17
        },
        "id": "U1diPW07Cgs8",
        "outputId": "2a47b257-daf8-4be0-9dcb-ac15f95a7148"
      },
      "outputs": [],
      "source": [
        "def process_results(results:List[Dict]) -> DataFrame:\n",
        "    unprocessed_results_df = pd.DataFrame(results)\n",
        "\n",
        "    # most common action\n",
        "    grouped = unprocessed_results_df.groupby(['scenario_id', 'decision']).size().reset_index(name='counts')\n",
        "    results_df = grouped.loc[grouped.groupby('scenario_id')['counts'].idxmax()]\n",
        "\n",
        "    results_df['other_action'] = results_df['decision'].apply(lambda x: 'action1' if x == 'action2' else 'action2')\n",
        "\n",
        "    # action_likelihood\n",
        "    total_counts = unprocessed_results_df['scenario_id'].value_counts().reset_index()\n",
        "    total_counts.columns = ['scenario_id', 'total_counts']\n",
        "\n",
        "    results_df = results_df.merge(total_counts, on='scenario_id')\n",
        "    results_df['answer_likelihood'] = results_df['counts'] / results_df['total_counts']\n",
        "\n",
        "    results_df.rename(columns={'answer_likelihood':'action_likelihood'}, inplace=True)\n",
        "    results_df = results_df[['scenario_id', 'decision', 'other_action', 'action_likelihood']]\n",
        "\n",
        "    # action_entropy\n",
        "    results_df['action_entropy'] = -((results_df['action_likelihood'] * np.log(results_df['action_likelihood'] + 1e-10)) + ((1 - results_df['action_likelihood']) * np.log(1 - results_df['action_likelihood'] + 1e-10)))\n",
        "\n",
        "    unique_values = unprocessed_results_df[['scenario_id', 'model_id', 'eval_technique', 'eval_top_p', 'eval_temperature']].drop_duplicates()\n",
        "    results_df = results_df.merge(unique_values, on='scenario_id')\n",
        "\n",
        "    return results_df"
      ]
    },
    {
      "cell_type": "markdown",
      "metadata": {},
      "source": [
        "# Playground"
      ]
    },
    {
      "cell_type": "markdown",
      "metadata": {
        "id": "vjmNImWTPbtB"
      },
      "source": [
        "## Setup"
      ]
    },
    {
      "cell_type": "code",
      "execution_count": 29,
      "metadata": {},
      "outputs": [],
      "source": [
        "num_scenarios = 100\n",
        "\n",
        "base = create_model('anthropic/claude-3-haiku')\n",
        "base_name = base.get_model_id().split(\"/\")[-1]\n",
        "\n",
        "dataset = \"low\"\n",
        "\n",
        "if base._company == 'anthropic':\n",
        "    system_msg = False\n",
        "else:\n",
        "    system_msg = True\n",
        "\n",
        "turns = 4"
      ]
    },
    {
      "cell_type": "code",
      "execution_count": 30,
      "metadata": {
        "colab": {
          "base_uri": "https://localhost:8080/",
          "height": 17
        },
        "id": "XCv-bX63-IkV",
        "outputId": "c560842d-edc1-4b15-9f7a-0f6f0586ebf8"
      },
      "outputs": [
        {
          "data": {
            "text/plain": [
              "(100, 27)"
            ]
          },
          "execution_count": 30,
          "metadata": {},
          "output_type": "execute_result"
        }
      ],
      "source": [
        "scenarios = pd.read_csv(f\"data/scenarios/moralchoice_{dataset}_ambiguity.csv\")\n",
        "\n",
        "if dataset == \"high\":\n",
        "    scenarios_batch = scenarios[:num_scenarios]\n",
        "else:\n",
        "    grouped = scenarios.groupby('generation_rule')\n",
        "    sampled_scenarios = grouped.apply(lambda x: x.sample(n=min(len(x), 10), random_state=1))\n",
        "    scenarios_batch = sampled_scenarios.reset_index(drop=True)\n",
        "    \n",
        "scenarios_batch.shape"
      ]
    },
    {
      "cell_type": "code",
      "execution_count": 31,
      "metadata": {},
      "outputs": [
        {
          "data": {
            "text/plain": [
              "0     C_1100\n",
              "1     C_1048\n",
              "2     C_1071\n",
              "3     C_1080\n",
              "4     C_1103\n",
              "       ...  \n",
              "95     C_122\n",
              "96    C_1145\n",
              "97    C_1178\n",
              "98    C_1177\n",
              "99    C_1180\n",
              "Name: scenario_id, Length: 100, dtype: object"
            ]
          },
          "execution_count": 31,
          "metadata": {},
          "output_type": "execute_result"
        }
      ],
      "source": [
        "scenarios_batch['scenario_id']"
      ]
    },
    {
      "cell_type": "code",
      "execution_count": 32,
      "metadata": {
        "id": "r7js54QAJFcE"
      },
      "outputs": [],
      "source": [
        "max_tokens = 200      # default = 200\n",
        "eval_temp = 1.0       # default = 1.0\n",
        "eval_top_p = 1.0      # default = 1.0\n",
        "eval_nb_samples = 2   # default = 1"
      ]
    },
    {
      "cell_type": "markdown",
      "metadata": {
        "id": "aW4ZfHMG7QAM"
      },
      "source": [
        "## Initial eval"
      ]
    },
    {
      "cell_type": "markdown",
      "metadata": {},
      "source": [
        "### Default"
      ]
    },
    {
      "cell_type": "code",
      "execution_count": 21,
      "metadata": {
        "colab": {
          "background_save": true,
          "base_uri": "https://localhost:8080/",
          "height": 34
        },
        "id": "eJ7sPi0r0-vF",
        "outputId": "96494698-2bf5-483e-ed08-11749d5d7527"
      },
      "outputs": [
        {
          "name": "stderr",
          "output_type": "stream",
          "text": [
            "Baseline eval for llama-3.1-8b:   3%|▉                              | 3/100 [00:16<08:28,  5.25s/it]"
          ]
        }
      ],
      "source": [
        "# COLLECT\n",
        "\n",
        "initial_results = []\n",
        "messages = []\n",
        "\n",
        "for k, (identifier, scenario) in tqdm(\n",
        "enumerate(scenarios_batch.iterrows()),\n",
        "total=len(scenarios_batch),\n",
        "position=0,\n",
        "ncols=100,\n",
        "leave=True,\n",
        "desc= f\"Baseline eval for {base_name}\"\n",
        "):\n",
        "\n",
        "    initial_results_i = evaluate(\n",
        "        scenario,\n",
        "        base,\n",
        "        eval_nb_samples,\n",
        "        max_tokens,\n",
        "        eval_temp,\n",
        "        eval_top_p,\n",
        "        system_msg=system_msg,\n",
        "    )\n",
        "\n",
        "    # print(initial_results_i)\n",
        "    initial_results.append(initial_results_i)\n",
        "\n",
        "# PROCESS\n",
        "\n",
        "flat_initial_results = [item for sublist in initial_results for item in sublist]\n",
        "initial_results_unprocessed = pd.DataFrame(flat_initial_results)\n",
        "initial_results_df = process_results(flat_initial_results)\n",
        "initial_results_df.head()\n",
        "\n",
        "initial_results_df.to_csv(f\"results/initial/{dataset}/{num_scenarios}/{base_name}.csv\")"
      ]
    },
    {
      "cell_type": "markdown",
      "metadata": {},
      "source": [
        "### ThreadPoolExecutor"
      ]
    },
    {
      "cell_type": "code",
      "execution_count": 33,
      "metadata": {},
      "outputs": [
        {
          "name": "stderr",
          "output_type": "stream",
          "text": [
            "Baseline eval for claude-3-haiku:   0%|                                     | 0/100 [00:00<?, ?it/s]"
          ]
        },
        {
          "name": "stdout",
          "output_type": "stream",
          "text": [
            "API call failed: Error code: 500 - {'type': 'error', 'error': {'type': 'api_error', 'message': 'Internal server error'}}\n",
            "API call failed: Error code: 500 - {'type': 'error', 'error': {'type': 'api_error', 'message': 'Internal server error'}}\n"
          ]
        },
        {
          "name": "stderr",
          "output_type": "stream",
          "text": [
            "Baseline eval for claude-3-haiku:   2%|▌                            | 2/100 [01:23<56:24, 34.54s/it]"
          ]
        },
        {
          "name": "stdout",
          "output_type": "stream",
          "text": [
            "API call failed: Error code: 500 - {'type': 'error', 'error': {'type': 'api_error', 'message': 'Internal server error'}}\n"
          ]
        },
        {
          "name": "stderr",
          "output_type": "stream",
          "text": [
            "Baseline eval for claude-3-haiku:   3%|▊                            | 3/100 [01:24<30:37, 18.95s/it]"
          ]
        },
        {
          "name": "stdout",
          "output_type": "stream",
          "text": [
            "API call failed: Error code: 500 - {'type': 'error', 'error': {'type': 'api_error', 'message': 'Internal server error'}}\n"
          ]
        },
        {
          "name": "stderr",
          "output_type": "stream",
          "text": [
            "Baseline eval for claude-3-haiku:  94%|██████████████████████████▎ | 94/100 [22:24<00:33,  5.59s/it]"
          ]
        },
        {
          "name": "stdout",
          "output_type": "stream",
          "text": [
            "API call failed: Error code: 500 - {'type': 'error', 'error': {'type': 'api_error', 'message': 'Internal server error'}}\n"
          ]
        },
        {
          "name": "stderr",
          "output_type": "stream",
          "text": [
            "Baseline eval for claude-3-haiku:  96%|██████████████████████████▉ | 96/100 [23:24<01:06, 16.71s/it]"
          ]
        },
        {
          "name": "stdout",
          "output_type": "stream",
          "text": [
            "API call failed: Error code: 500 - {'type': 'error', 'error': {'type': 'api_error', 'message': 'Internal server error'}}\n"
          ]
        },
        {
          "name": "stderr",
          "output_type": "stream",
          "text": [
            "Baseline eval for claude-3-haiku:  97%|███████████████████████████▏| 97/100 [23:25<00:38, 12.90s/it]"
          ]
        },
        {
          "name": "stdout",
          "output_type": "stream",
          "text": [
            "API call failed: Error code: 500 - {'type': 'error', 'error': {'type': 'api_error', 'message': 'Internal server error'}}\n"
          ]
        },
        {
          "name": "stderr",
          "output_type": "stream",
          "text": [
            "Baseline eval for claude-3-haiku: 100%|███████████████████████████| 100/100 [23:31<00:00, 14.11s/it]\n"
          ]
        }
      ],
      "source": [
        "def process_scenario(args):\n",
        "    k, (identifier, scenario) = args\n",
        "    return evaluate(\n",
        "        scenario,\n",
        "        base,\n",
        "        eval_nb_samples,\n",
        "        max_tokens,\n",
        "        eval_temp,\n",
        "        eval_top_p,\n",
        "        system_msg=system_msg,\n",
        "    )\n",
        "\n",
        "initial_results = []\n",
        "messages = []\n",
        "\n",
        "with ThreadPoolExecutor(max_workers=8) as executor: \n",
        "    futures = [executor.submit(process_scenario, item) for item in enumerate(scenarios_batch.iterrows())]\n",
        "    \n",
        "    for future in tqdm(\n",
        "        as_completed(futures),\n",
        "        total=len(scenarios_batch),\n",
        "        position=0,\n",
        "        ncols=100,\n",
        "        leave=True,\n",
        "        desc=f\"Baseline eval for {base_name}\"\n",
        "    ):\n",
        "        initial_results_i = future.result()\n",
        "        initial_results.append(initial_results_i)\n",
        "\n",
        "flat_initial_results = [item for sublist in initial_results for item in sublist]\n",
        "initial_results_unprocessed = pd.DataFrame(flat_initial_results)\n",
        "initial_results_df = process_results(flat_initial_results)\n",
        "initial_results_df.head()\n",
        "\n",
        "initial_results_df.to_csv(f\"results/initial/{dataset}/{num_scenarios}/{base_name}.csv\")"
      ]
    },
    {
      "cell_type": "code",
      "execution_count": null,
      "metadata": {},
      "outputs": [],
      "source": []
    }
  ],
  "metadata": {
    "accelerator": "GPU",
    "colab": {
      "gpuType": "T4",
      "provenance": [],
      "toc_visible": true
    },
    "kernelspec": {
      "display_name": "Python 3",
      "name": "python3"
    },
    "language_info": {
      "codemirror_mode": {
        "name": "ipython",
        "version": 3
      },
      "file_extension": ".py",
      "mimetype": "text/x-python",
      "name": "python",
      "nbconvert_exporter": "python",
      "pygments_lexer": "ipython3",
      "version": "3.8.16"
    }
  },
  "nbformat": 4,
  "nbformat_minor": 0
}
