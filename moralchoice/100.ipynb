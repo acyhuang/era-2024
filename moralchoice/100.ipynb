{
 "cells": [
  {
   "cell_type": "markdown",
   "metadata": {},
   "source": [
    "# initial"
   ]
  },
  {
   "cell_type": "code",
   "execution_count": 1,
   "metadata": {},
   "outputs": [],
   "source": [
    "import pandas as pd"
   ]
  },
  {
   "cell_type": "code",
   "execution_count": 16,
   "metadata": {},
   "outputs": [
    {
     "name": "stdout",
     "output_type": "stream",
     "text": [
      "Index(['scenario_id', 'decision', 'other_action', 'action_likelihood',\n",
      "       'action_entropy', 'model_id', 'eval_technique', 'eval_top_p',\n",
      "       'eval_temperature'],\n",
      "      dtype='object')\n",
      "Index(['scenario_id', 'decision', 'other_action', 'action_likelihood',\n",
      "       'action_entropy', 'model_id', 'eval_technique', 'eval_top_p',\n",
      "       'eval_temperature', 'a1_action_likelihood'],\n",
      "      dtype='object')\n",
      "Index(['scenario_id', 'decision', 'other_action', 'action_likelihood',\n",
      "       'action_entropy', 'model_id', 'eval_technique', 'eval_top_p',\n",
      "       'eval_temperature', 'a1_action_likelihood'],\n",
      "      dtype='object')\n",
      "Index(['scenario_id', 'decision', 'other_action', 'action_likelihood',\n",
      "       'action_entropy', 'model_id', 'eval_technique', 'eval_top_p',\n",
      "       'eval_temperature'],\n",
      "      dtype='object')\n",
      "Index(['scenario_id', 'decision', 'other_action', 'action_likelihood',\n",
      "       'action_entropy', 'model_id', 'eval_technique', 'eval_top_p',\n",
      "       'eval_temperature'],\n",
      "      dtype='object')\n",
      "Index(['scenario_id', 'decision', 'other_action', 'action_likelihood',\n",
      "       'action_entropy', 'model_id', 'eval_technique', 'eval_top_p',\n",
      "       'eval_temperature'],\n",
      "      dtype='object')\n",
      "Index(['scenario_id', 'decision', 'other_action', 'action_likelihood',\n",
      "       'action_entropy', 'model_id', 'eval_technique', 'eval_top_p',\n",
      "       'eval_temperature'],\n",
      "      dtype='object')\n"
     ]
    }
   ],
   "source": [
    "# models = ['claude-3-haiku']\n",
    "models = ['claude-3-haiku', 'gpt-3.5-turbo', 'gpt-4o-mini', 'gpt-4o', 'llama-3.1-70b', 'mistral-7b-instruct', 'mixtral-8x7b']\n",
    "\n",
    "for model in models:\n",
    "    scenarios_all = pd.read_csv(f\"results/initial/680/{model}.csv\")\n",
    "    scenarios_100 = scenarios_all.iloc[580:].copy()\n",
    "    scenarios_100.reset_index(drop=True, inplace=True)\n",
    "    if \"Unnamed: 0\" in scenarios_100.columns:\n",
    "        scenarios_100.drop(columns=['Unnamed: 0'], inplace=True)\n",
    "    print(scenarios_100.columns)\n",
    "    scenarios_100.to_csv(f\"results/initial/100/{model}.csv\")"
   ]
  },
  {
   "cell_type": "markdown",
   "metadata": {},
   "source": [
    "# final"
   ]
  },
  {
   "cell_type": "code",
   "execution_count": 18,
   "metadata": {},
   "outputs": [
    {
     "name": "stdout",
     "output_type": "stream",
     "text": [
      "Processed and saved: gpt-4o-mini_gemma-7b.csv\n",
      "Processed and saved: claude-3-haiku_gpt-4o-mini.csv\n",
      "Processed and saved: gpt-4o-mini_gpt-4o-mini_utilitarianism.csv\n",
      "Processed and saved: gpt-4o-mini_gpt-4o-mini_virtue.csv\n",
      "Processed and saved: llama-3.1-70b_mixtral-8x7b.csv\n",
      "Processed and saved: gpt-4o-mini_llama-3.1-70b_utilitarianism.csv\n",
      "Processed and saved: llama-3.1-70b_llama-3.1-70b_utilitarianism.csv\n",
      "Processed and saved: gpt-4o-mini_llama-3.1-70b2.csv\n",
      "Processed and saved: mistral-7b-instruct_llama-3.1-70b_utilitarianism.csv\n",
      "Processed and saved: mistral-7b-instruct_mistral-7b-instruct.csv\n",
      "Processed and saved: mixtral-8x7b_llama-3.1-70b.csv\n",
      "Processed and saved: mixtral-8x7b_gemma-7b.csv\n",
      "Processed and saved: llama-3.1-70b_gemma-7b.csv\n",
      "Processed and saved: mistral-7b-instruct_gpt-4o-mini.csv\n",
      "Processed and saved: mistral-7b-instruct_llama-3.1-70b_virtue.csv\n",
      "Processed and saved: mixtral-8x7b_mixtral-8x7b.csv\n",
      "Processed and saved: gpt-4o-mini_mistral-7b-instruct.csv\n",
      "Processed and saved: llama-3.1-70b_llama-3.1-70b_virtue.csv\n",
      "Processed and saved: llama-3.1-70b_gpt-4o-mini.csv\n",
      "Processed and saved: llama-3-8b-chat_llama-3-8b-chat.csv\n",
      "Processed and saved: claude-3-haiku_mixtral-8x7b.csv\n",
      "Processed and saved: mistral-7b-instruct_mistral-7b-instruct_utilitarianism.csv\n",
      "Processed and saved: mistral-7b-instruct_mixtral-8x7b.csv\n",
      "Processed and saved: mistral-7b-instruct_llama-3.1-70b.csv\n",
      "Processed and saved: mixtral-8x7b_gpt-4o-mini.csv\n",
      "Processed and saved: llama-3.1-70b_mistral-7b-instruct.csv\n",
      "Processed and saved: gpt-4o-mini_llama-3.1-70b_virtue.csv\n",
      "Processed and saved: gpt-4o-mini_mixtral-8x7b.csv\n",
      "Processed and saved: mixtral-8x7b_mistral-7b-instruct.csv\n",
      "Processed and saved: gpt-4o-mini_llama-3.1-70b.csv\n",
      "Processed and saved: mistral-7b-instruct_mistral-7b-instruct_virtue.csv\n",
      "Processed and saved: gpt-4o-mini_gpt-4o-mini.csv\n",
      "Processed and saved: gpt-4o-mini_mixtral-8x7b2.csv\n",
      "Processed and saved: llama-3.1-70b_llama-3.1-70b.csv\n",
      "All files processed.\n"
     ]
    }
   ],
   "source": [
    "import os\n",
    "\n",
    "final_680_dir = \"results/final/680/\"\n",
    "final_100_dir = \"results/final/100/\"\n",
    "\n",
    "# Ensure the output directory exists\n",
    "os.makedirs(final_100_dir, exist_ok=True)\n",
    "\n",
    "for filename in os.listdir(final_680_dir):\n",
    "    if filename.endswith(\".csv\"):\n",
    "        # Read the file\n",
    "        df = pd.read_csv(os.path.join(final_680_dir, filename))\n",
    "        \n",
    "        # Create a copy of the last 100 rows\n",
    "        df_100 = df.iloc[-100:].copy()\n",
    "        \n",
    "        # Reset the index\n",
    "        df_100.reset_index(drop=True, inplace=True)\n",
    "        \n",
    "        # Drop \"Unnamed: 0\" column if it exists\n",
    "        if \"Unnamed: 0\" in df_100.columns:\n",
    "            df_100.drop(columns=['Unnamed: 0'], inplace=True)\n",
    "        \n",
    "        # Save the new dataframe\n",
    "        output_path = os.path.join(final_100_dir, filename)\n",
    "        df_100.to_csv(output_path)\n",
    "        \n",
    "        print(f\"Processed and saved: {filename}\")\n",
    "\n",
    "print(\"All files processed.\")\n"
   ]
  },
  {
   "cell_type": "code",
   "execution_count": null,
   "metadata": {},
   "outputs": [],
   "source": []
  }
 ],
 "metadata": {
  "kernelspec": {
   "display_name": "venv",
   "language": "python",
   "name": "python3"
  },
  "language_info": {
   "codemirror_mode": {
    "name": "ipython",
    "version": 3
   },
   "file_extension": ".py",
   "mimetype": "text/x-python",
   "name": "python",
   "nbconvert_exporter": "python",
   "pygments_lexer": "ipython3",
   "version": "3.8.16"
  }
 },
 "nbformat": 4,
 "nbformat_minor": 2
}
